{
  "nbformat": 4,
  "nbformat_minor": 2,
  "metadata": {
    "colab": {
      "name": "ResNet.ipynb",
      "provenance": [],
      "authorship_tag": "ABX9TyP4ZVwKNABr2g499n+4/ztC",
      "include_colab_link": true
    },
    "kernelspec": {
      "name": "python385jvsc74a57bd06d46af94c2bbce495f1e668725902fa517c90b1782bcfe2fce0dd9868df553d3",
      "display_name": "Python 3.8.5 64-bit ('base': conda)"
    },
    "language_info": {
      "name": "python",
      "version": "3.8.5"
    },
    "accelerator": "GPU"
  },
  "cells": [
    {
      "cell_type": "markdown",
      "source": [
        "<a href=\"https://colab.research.google.com/github/Taehee-K/Brain-Tumor-Classification/blob/main/code/ResNet.ipynb\" target=\"_parent\"><img src=\"https://colab.research.google.com/assets/colab-badge.svg\" alt=\"Open In Colab\"/></a>"
      ],
      "metadata": {
        "id": "view-in-github",
        "colab_type": "text"
      }
    },
    {
      "cell_type": "code",
      "execution_count": null,
      "source": [
        "import os\r\n",
        "path = os.path.dirname(os.path.abspath(__file__))\r\n",
        "os.chdir(path)"
      ],
      "outputs": [],
      "metadata": {
        "id": "mbF-t5mNPJP6"
      }
    },
    {
      "cell_type": "markdown",
      "source": [
        "# Split Data"
      ],
      "metadata": {
        "id": "0mlQ8IxbPV6x"
      }
    },
    {
      "cell_type": "markdown",
      "source": [
        "* Train, Validation, Test 데이터 폴더 나누기"
      ],
      "metadata": {
        "id": "nfurc7XoQROn"
      }
    },
    {
      "cell_type": "code",
      "execution_count": null,
      "source": [
        "import shutil\r\n",
        " \r\n",
        "original_dataset_dir = '../BrainTumorData'   \r\n",
        "classes_list = os.listdir(original_dataset_dir) \r\n",
        " \r\n",
        "base_dir = '../splitted'                           # train-validation 데이터 나누어 저장\r\n",
        "os.mkdir(base_dir)\r\n",
        " \r\n",
        "train_dir = os.path.join(base_dir, 'train')       # train data\r\n",
        "os.mkdir(train_dir)\r\n",
        "test_dir = os.path.join(base_dir, 'val')          # test data\r\n",
        "os.mkdir(test_dir)\r\n",
        "\r\n",
        "for cls in classes_list:     \r\n",
        "    os.mkdir(os.path.join(train_dir, cls))\r\n",
        "    os.mkdir(os.path.join(test_dir, cls))"
      ],
      "outputs": [],
      "metadata": {
        "id": "vdgUY4_vPVS_"
      }
    },
    {
      "cell_type": "markdown",
      "source": [
        "* Train:Test 8:2 로 데이터 분할\n",
        "* 각 클래스 별 데이터 수 확인"
      ],
      "metadata": {
        "id": "ncEjsRz_QVoR"
      }
    },
    {
      "cell_type": "code",
      "execution_count": null,
      "source": [
        "import math\r\n",
        " \r\n",
        "for cls in classes_list:\r\n",
        "    path = os.path.join(original_dataset_dir, cls)\r\n",
        "    fnames = os.listdir(path)\r\n",
        " \r\n",
        "    train_size = math.floor(len(fnames) * 0.8)\r\n",
        "    test_size = math.floor(len(fnames) * 0.2)\r\n",
        "    \r\n",
        "    train_fnames = fnames[:train_size]\r\n",
        "    print(\"Train size(\",cls,\"): \", len(train_fnames))\r\n",
        "    for fname in train_fnames:\r\n",
        "        src = os.path.join(path, fname)\r\n",
        "        dst = os.path.join(os.path.join(train_dir, cls), fname)\r\n",
        "        shutil.copyfile(src, dst)\r\n",
        "        \r\n",
        "    test_fnames = fnames[train_size:]\r\n",
        "    print(\"Test size(\",cls,\"): \", len(test_fnames))\r\n",
        "    for fname in test_fnames:\r\n",
        "        src = os.path.join(path, fname)\r\n",
        "        dst = os.path.join(os.path.join(test_dir, cls), fname)\r\n",
        "        shutil.copyfile(src, dst)"
      ],
      "outputs": [
        {
          "output_type": "stream",
          "name": "stdout",
          "text": [
            "Train size( Brain Tumor ):  2010\n",
            "Test size( Brain Tumor ):  503\n",
            "Train size( Healthy ):  1669\n",
            "Test size( Healthy ):  418\n"
          ]
        }
      ],
      "metadata": {
        "colab": {
          "base_uri": "https://localhost:8080/"
        },
        "id": "8aPlJ4qIQKyS",
        "outputId": "2088d200-e874-4730-99c6-ac87cec7ea7b"
      }
    },
    {
      "cell_type": "markdown",
      "source": [
        "# Import Modules"
      ],
      "metadata": {
        "id": "gY3Ec2iGQoQh"
      }
    },
    {
      "cell_type": "code",
      "execution_count": 1,
      "source": [
        "import numpy as np\r\n",
        "import pandas as pd\r\n",
        "import matplotlib.pyplot as plt\r\n",
        "\r\n",
        "# Load Data\r\n",
        "import torchvision.transforms as transforms\r\n",
        "from torchvision.datasets import ImageFolder \r\n",
        "from torch.utils.data import DataLoader\r\n",
        "\r\n",
        "# Pytorch --> MLP, CNN\r\n",
        "import torch\r\n",
        "import torch.nn as nn \r\n",
        "import torch.nn.functional as F\r\n",
        "import torch.optim as optim\r\n",
        "\r\n",
        "from torchsummary import summary"
      ],
      "outputs": [],
      "metadata": {
        "id": "4xWouD7KQnuo"
      }
    },
    {
      "cell_type": "code",
      "execution_count": 2,
      "source": [
        "if torch.cuda.is_available():\r\n",
        "  DEVICE = torch.device('cuda')\r\n",
        "else:\r\n",
        "  DEVICE = torch.device('cpu')\r\n",
        "print(DEVICE)"
      ],
      "outputs": [
        {
          "output_type": "stream",
          "name": "stdout",
          "text": [
            "cpu\n"
          ]
        }
      ],
      "metadata": {
        "colab": {
          "base_uri": "https://localhost:8080/"
        },
        "id": "21eJSOYPQw5f",
        "outputId": "c340868c-62b3-4b30-bea8-3d76f185782c"
      }
    },
    {
      "cell_type": "code",
      "execution_count": 3,
      "source": [
        "BATCH_SIZE = 64\r\n",
        "EPOCH = 30"
      ],
      "outputs": [],
      "metadata": {
        "id": "zIDQtchdQxGe"
      }
    },
    {
      "cell_type": "code",
      "execution_count": 4,
      "source": [
        "original_dataset_dir = '../BrainTumorData'   \r\n",
        "classes_list = os.listdir(original_dataset_dir) \r\n",
        "n_classes = len(classes_list)\r\n",
        "\r\n",
        "print(classes_list)           # 분류해야 할 클래스들\r\n",
        "print(n_classes)      # 클래스 수 2개"
      ],
      "outputs": [
        {
          "output_type": "stream",
          "name": "stdout",
          "text": [
            "['Brain Tumor', 'Healthy']\n",
            "2\n"
          ]
        }
      ],
      "metadata": {
        "colab": {
          "base_uri": "https://localhost:8080/"
        },
        "id": "QkMRfTeJQ2j-",
        "outputId": "4bc8197f-4227-4bf8-a754-fd61a2dc6a23"
      }
    },
    {
      "cell_type": "markdown",
      "source": [
        "# Load Data"
      ],
      "metadata": {
        "id": "QAqMDgOiUvSK"
      }
    },
    {
      "cell_type": "code",
      "execution_count": 5,
      "source": [
        "transform_base = transforms.Compose([transforms.Resize((227,227)),\r\n",
        "                                     transforms.ToTensor(),\r\n",
        "                                     transforms.Grayscale(num_output_channels=1)]) \r\n",
        "train_dataset = ImageFolder(root='../splitted/train', transform=transform_base)\r\n",
        "test_dataset = ImageFolder(root='../splitted/val', transform=transform_base)"
      ],
      "outputs": [],
      "metadata": {
        "id": "hwA82Zz6RKq3"
      }
    },
    {
      "cell_type": "code",
      "execution_count": 6,
      "source": [
        "train_loader = torch.utils.data.DataLoader(train_dataset, batch_size=BATCH_SIZE, shuffle=True, num_workers=4)\r\n",
        "test_loader = torch.utils.data.DataLoader(test_dataset,batch_size=BATCH_SIZE, shuffle=True, num_workers=4)"
      ],
      "outputs": [],
      "metadata": {
        "colab": {
          "base_uri": "https://localhost:8080/"
        },
        "id": "JvRneP0vRNsL",
        "outputId": "e6a95a30-fce7-4e7c-cac0-039f8700967e"
      }
    },
    {
      "cell_type": "markdown",
      "source": [
        "* 데이터 개수, 형태 확인"
      ],
      "metadata": {
        "id": "Lo4OE5Wdb3xI"
      }
    },
    {
      "cell_type": "code",
      "execution_count": 7,
      "source": [
        "for (X_train, y_train) in train_loader:\r\n",
        "    print('X_train:', X_train.size(),'type:', X_train.type())\r\n",
        "    print('y_train:', y_train.size(),'type:', y_train.type())\r\n",
        "    break"
      ],
      "outputs": [
        {
          "output_type": "stream",
          "name": "stdout",
          "text": [
            "X_train: torch.Size([64, 1, 227, 227]) type: torch.FloatTensor\n",
            "y_train: torch.Size([64]) type: torch.LongTensor\n"
          ]
        }
      ],
      "metadata": {
        "colab": {
          "base_uri": "https://localhost:8080/"
        },
        "id": "sqysFnG7bxZs",
        "outputId": "2334ad90-9dca-476d-f66c-844ab9f72f59"
      }
    },
    {
      "cell_type": "markdown",
      "source": [
        "* 데이터 사진 확인하기"
      ],
      "metadata": {
        "id": "Hb9ryNtsTf8W"
      }
    },
    {
      "cell_type": "code",
      "execution_count": null,
      "source": [
        "pltsize = 2\r\n",
        "plt.figure(figsize=(10 * pltsize, pltsize))\r\n",
        "for i in range(10):\r\n",
        "    plt.subplot(1, 10, i + 1)\r\n",
        "    plt.axis('off')\r\n",
        "    plt.imshow(X_train[i, :, :, :].numpy().reshape(227, 227), cmap = \"gray_r\")\r\n",
        "    plt.title('Class: ' + str(y_train[i].item()))"
      ],
      "outputs": [
        {
          "output_type": "display_data",
          "data": {
            "text/plain": [
              "<Figure size 1440x144 with 10 Axes>"
            ],
            "image/png": "[encoded data removed]"
          },
          "metadata": {
            "tags": [],
            "needs_background": "light"
          }
        }
      ],
      "metadata": {
        "colab": {
          "base_uri": "https://localhost:8080/",
          "height": 124
        },
        "id": "3PYcSlVGTdRx",
        "outputId": "74044bee-ec7d-4de1-e735-31b770d051e8"
      }
    },
    {
      "cell_type": "markdown",
      "source": [
        "# ResNet "
      ],
      "metadata": {
        "id": "qWITu3WVRI6n"
      }
    },
    {
      "cell_type": "markdown",
      "source": [
        "* ResNet16 Model"
      ],
      "metadata": {
        "id": "H4I1L6cOVLGH"
      }
    },
    {
      "cell_type": "markdown",
      "source": [
        "**Deep Residual Learning for Image Recognition** 에서의 **ResNet** 구현\n",
        "\n",
        "ResNet: Residual Network\n",
        "이전 Layer의 Feature Map을 다음 Layer의 Feature Map에 더해주는 Skip Connection 구조로 이루어져 있음 "
      ],
      "metadata": {
        "id": "O0IhBUW3R-vu"
      }
    },
    {
      "cell_type": "markdown",
      "source": [
        "![resnet](data:image/png;base64,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)"
      ],
      "metadata": {
        "id": "RBSODlK0SEiG"
      }
    },
    {
      "cell_type": "code",
      "execution_count": null,
      "source": [
        "class BasicBlock(nn.Module):\r\n",
        "  def __init__(self, in_planes, planes, stride = 1):\r\n",
        "    super(BasicBlock, self).__init__()\r\n",
        "    self.conv1 = nn.Conv2d(in_planes, planes,\r\n",
        "                           kernel_size = 3,\r\n",
        "                           stride = stride,\r\n",
        "                           padding = 1,\r\n",
        "                           bias = False)\r\n",
        "    self.bn1 = nn.BatchNorm2d(planes)\r\n",
        "    self.conv2 = nn.Conv2d(planes, planes,\r\n",
        "                           kernel_size = 3,\r\n",
        "                           stride = 1,\r\n",
        "                           padding = 1,\r\n",
        "                           bias = False)\r\n",
        "    self.bn2 = nn.BatchNorm2d(planes)\r\n",
        "\r\n",
        "    self.shortcut = nn.Sequential()\r\n",
        "    if stride != 1 or in_planes != planes:\r\n",
        "      self.shortcut = nn.Sequential(\r\n",
        "          nn.Conv2d(in_planes, planes,\r\n",
        "                           kernel_size = 3,\r\n",
        "                           stride = stride,\r\n",
        "                           padding = 1,\r\n",
        "                           bias = False),\r\n",
        "          nn.BatchNorm2d(planes))\r\n",
        "      \r\n",
        "  def forward(self, x):\r\n",
        "    out = F.relu(self.bn1(self.conv1(x)))\r\n",
        "    out = self.bn2(self.conv2(out))\r\n",
        "    out += self.shortcut(x)\r\n",
        "    out = F.relu(out)\r\n",
        "    return out\r\n",
        "\r\n",
        "class ResNet(nn.Module):\r\n",
        "    def __init__(self, n_classes = 2): \r\n",
        "        super(ResNet, self).__init__() \r\n",
        "\r\n",
        "        self.in_planes = 16\r\n",
        "\r\n",
        "        self.conv1 = nn.Conv2d(1, 16,\r\n",
        "                                kernel_size = 3,\r\n",
        "                                stride = 1,\r\n",
        "                                padding = 1,\r\n",
        "                                bias = False)\r\n",
        "        self.bn1 = nn.BatchNorm2d(16)\r\n",
        "        self.layer1 = self._make_layer(BasicBlock, 16, 2, stride = 1)\r\n",
        "        self.layer2 = self._make_layer(BasicBlock, 32, 2, stride = 2)\r\n",
        "        self.layer3 = self._make_layer(BasicBlock, 64, 2, stride = 2)\r\n",
        "        self.layer4 = self._make_layer(BasicBlock, 128, 2, stride = 2)\r\n",
        "        self.linear = nn.Linear(1152, n_classes)\r\n",
        "\r\n",
        "    def _make_layer(self, block, planes, num_blocks, stride):\r\n",
        "        strides = [stride] + [1] * (num_blocks - 1)\r\n",
        "        layers = []\r\n",
        "        for stride in strides:\r\n",
        "          layers.append(block(self.in_planes, planes, stride))\r\n",
        "          self.in_planes = planes\r\n",
        "        return nn.Sequential(*layers)\r\n",
        "\r\n",
        "    def forward(self, x):\r\n",
        "        x = F.relu(self.bn1(self.conv1(x)))\r\n",
        "        x = self.layer1(x)\r\n",
        "        x = self.layer2(x)\r\n",
        "        x = self.layer3(x)\r\n",
        "        x = self.layer4(x)\r\n",
        "        x = F.avg_pool2d(x, 8)\r\n",
        "        x = x.view(x.size(0), -1)\r\n",
        "        x = self.linear(x)\r\n",
        "\r\n",
        "        return x\r\n",
        "\r\n",
        "resnet = ResNet().to(DEVICE)\r\n",
        "summary(resnet, X_train.shape[1:]) # summary code "
      ],
      "outputs": [
        {
          "output_type": "stream",
          "name": "stdout",
          "text": [
            "----------------------------------------------------------------\n",
            "        Layer (type)               Output Shape         Param #\n",
            "================================================================\n",
            "            Conv2d-1         [-1, 16, 227, 227]             144\n",
            "       BatchNorm2d-2         [-1, 16, 227, 227]              32\n",
            "            Conv2d-3         [-1, 16, 227, 227]           2,304\n",
            "       BatchNorm2d-4         [-1, 16, 227, 227]              32\n",
            "            Conv2d-5         [-1, 16, 227, 227]           2,304\n",
            "       BatchNorm2d-6         [-1, 16, 227, 227]              32\n",
            "        BasicBlock-7         [-1, 16, 227, 227]               0\n",
            "            Conv2d-8         [-1, 16, 227, 227]           2,304\n",
            "       BatchNorm2d-9         [-1, 16, 227, 227]              32\n",
            "           Conv2d-10         [-1, 16, 227, 227]           2,304\n",
            "      BatchNorm2d-11         [-1, 16, 227, 227]              32\n",
            "       BasicBlock-12         [-1, 16, 227, 227]               0\n",
            "           Conv2d-13         [-1, 32, 114, 114]           4,608\n",
            "      BatchNorm2d-14         [-1, 32, 114, 114]              64\n",
            "           Conv2d-15         [-1, 32, 114, 114]           9,216\n",
            "      BatchNorm2d-16         [-1, 32, 114, 114]              64\n",
            "           Conv2d-17         [-1, 32, 114, 114]           4,608\n",
            "      BatchNorm2d-18         [-1, 32, 114, 114]              64\n",
            "       BasicBlock-19         [-1, 32, 114, 114]               0\n",
            "           Conv2d-20         [-1, 32, 114, 114]           9,216\n",
            "      BatchNorm2d-21         [-1, 32, 114, 114]              64\n",
            "           Conv2d-22         [-1, 32, 114, 114]           9,216\n",
            "      BatchNorm2d-23         [-1, 32, 114, 114]              64\n",
            "       BasicBlock-24         [-1, 32, 114, 114]               0\n",
            "           Conv2d-25           [-1, 64, 57, 57]          18,432\n",
            "      BatchNorm2d-26           [-1, 64, 57, 57]             128\n",
            "           Conv2d-27           [-1, 64, 57, 57]          36,864\n",
            "      BatchNorm2d-28           [-1, 64, 57, 57]             128\n",
            "           Conv2d-29           [-1, 64, 57, 57]          18,432\n",
            "      BatchNorm2d-30           [-1, 64, 57, 57]             128\n",
            "       BasicBlock-31           [-1, 64, 57, 57]               0\n",
            "           Conv2d-32           [-1, 64, 57, 57]          36,864\n",
            "      BatchNorm2d-33           [-1, 64, 57, 57]             128\n",
            "           Conv2d-34           [-1, 64, 57, 57]          36,864\n",
            "      BatchNorm2d-35           [-1, 64, 57, 57]             128\n",
            "       BasicBlock-36           [-1, 64, 57, 57]               0\n",
            "           Conv2d-37          [-1, 128, 29, 29]          73,728\n",
            "      BatchNorm2d-38          [-1, 128, 29, 29]             256\n",
            "           Conv2d-39          [-1, 128, 29, 29]         147,456\n",
            "      BatchNorm2d-40          [-1, 128, 29, 29]             256\n",
            "           Conv2d-41          [-1, 128, 29, 29]          73,728\n",
            "      BatchNorm2d-42          [-1, 128, 29, 29]             256\n",
            "       BasicBlock-43          [-1, 128, 29, 29]               0\n",
            "           Conv2d-44          [-1, 128, 29, 29]         147,456\n",
            "      BatchNorm2d-45          [-1, 128, 29, 29]             256\n",
            "           Conv2d-46          [-1, 128, 29, 29]         147,456\n",
            "      BatchNorm2d-47          [-1, 128, 29, 29]             256\n",
            "       BasicBlock-48          [-1, 128, 29, 29]               0\n",
            "           Linear-49                    [-1, 2]           2,306\n",
            "================================================================\n",
            "Total params: 788,210\n",
            "Trainable params: 788,210\n",
            "Non-trainable params: 0\n",
            "----------------------------------------------------------------\n",
            "Input size (MB): 0.20\n",
            "Forward/backward pass size (MB): 142.45\n",
            "Params size (MB): 3.01\n",
            "Estimated Total Size (MB): 145.65\n",
            "----------------------------------------------------------------\n"
          ]
        }
      ],
      "metadata": {
        "colab": {
          "base_uri": "https://localhost:8080/"
        },
        "id": "M9yo9J_ORsdu",
        "outputId": "e063edeb-430d-4899-f180-7060779d60d0"
      }
    },
    {
      "cell_type": "code",
      "execution_count": null,
      "source": [
        "optimizer = optim.Adam(resnet.parameters(), lr=0.001)\r\n",
        "criterion = nn.CrossEntropyLoss()"
      ],
      "outputs": [],
      "metadata": {
        "id": "-Cv7O0o0Rsw1"
      }
    },
    {
      "cell_type": "markdown",
      "source": [
        "* Train Model"
      ],
      "metadata": {
        "id": "rooJ91V3U86Y"
      }
    },
    {
      "cell_type": "code",
      "execution_count": null,
      "source": [
        "def train(model, train_loader, optimizer):\r\n",
        "    model.train()                         # 모델 train 상태로\r\n",
        "    for batch_idx, (data, target) in enumerate(train_loader):\r\n",
        "        data, target = data.to(DEVICE), target.to(DEVICE)  # data, target 값 DEVICE에 할당\r\n",
        "        optimizer.zero_grad()                              # optimizer gradient 값 초기화\r\n",
        "        output = model(data)                               # 할당된 데이터로 output 계산\r\n",
        "        loss =  criterion(output, target)                  # Cross Entropy Loss 사용해 loss 계산\r\n",
        "        loss.backward()                                    # 계산된 loss back propagation\r\n",
        "        optimizer.step()                                   # parameter update"
      ],
      "outputs": [],
      "metadata": {
        "id": "NBMOFujjU9iL"
      }
    },
    {
      "cell_type": "markdown",
      "source": [
        "* Evaluate Model"
      ],
      "metadata": {
        "id": "9RxzeapWVC8-"
      }
    },
    {
      "cell_type": "code",
      "execution_count": null,
      "source": [
        "def evaluate(model, test_loader):\r\n",
        "    model.eval()      # 모델 평가 상태로\r\n",
        "    test_loss = 0     # test_loss 초기화\r\n",
        "    correct = 0       # 맞게 예측한 0 값으로 초기화\r\n",
        "    \r\n",
        "    with torch.no_grad(): \r\n",
        "        for data, target in test_loader:\r\n",
        "            data, target = data.to(DEVICE), target.to(DEVICE)     # data, target DEVICE에 할당\r\n",
        "            output = model(data)                                  # output 계산\r\n",
        "            test_loss += criterion(output, target).item()         # loss 계산(총 loss 에 더해주기)\r\n",
        "            pred = output.max(1, keepdim=True)[1]                 # 계산된 벡터값 중 가장 큰 값 가지는 class 예측\r\n",
        "            correct += pred.eq(target.view_as(pred)).sum().item() # 맞게 예측한 값 세기\r\n",
        "   \r\n",
        "    test_loss /= len(test_loader.dataset)                         # 평균 loss\r\n",
        "    test_accuracy = 100. * correct / len(test_loader.dataset)     # test(validation) 데이터 정확도\r\n",
        "    return test_loss, test_accuracy "
      ],
      "outputs": [],
      "metadata": {
        "id": "QzZpfMSrVDpF"
      }
    },
    {
      "cell_type": "markdown",
      "source": [
        "## Train ResNet"
      ],
      "metadata": {
        "id": "LfbgiyabVnIW"
      }
    },
    {
      "cell_type": "code",
      "execution_count": null,
      "source": [
        "import time\r\n",
        "import copy\r\n",
        " \r\n",
        "def train_model(model ,train_loader, val_loader, optimizer, num_epochs = 30):\r\n",
        "    best_acc = 0.0  # beset accuracy 초기화\r\n",
        "    best_model_wts = copy.deepcopy(model.state_dict()) \r\n",
        " \r\n",
        "    for epoch in range(1, num_epochs + 1):\r\n",
        "        since = time.time()                                     # 학습 시간 계산\r\n",
        "        train(model, train_loader, optimizer)                   # train 데이터로 학습\r\n",
        "        train_loss, train_acc = evaluate(model, train_loader)   # train_loss, train_acc 계산\r\n",
        "        val_loss, val_acc = evaluate(model, val_loader)         # valid_loss, valid_acc 계산\r\n",
        "        \r\n",
        "        if val_acc>best_acc:  # update best accuracy\r\n",
        "            best_acc = val_acc\r\n",
        "            best_model_wts = copy.deepcopy(model.state_dict())\r\n",
        "        \r\n",
        "        time_elapsed = time.time() - since # 학습 시간 출력\r\n",
        "        print('-------------- epoch {} ----------------'.format(epoch))\r\n",
        "        print('train Loss: {:.4f}, Accuracy: {:.2f}%'.format(train_loss, train_acc))   \r\n",
        "        print('val Loss: {:.4f}, Accuracy: {:.2f}%'.format(val_loss, val_acc))\r\n",
        "        print('Completed in {:.0f}m {:.0f}s'.format(time_elapsed // 60, time_elapsed % 60)) \r\n",
        "\r\n",
        "    model.load_state_dict(best_model_wts)  \r\n",
        "    return model\r\n",
        "\r\n",
        "model = train_model(resnet ,train_loader, test_loader, optimizer)  \t# 모델 학습시키기\r\n",
        "torch.save(model,'ResNet.pt') "
      ],
      "outputs": [
        {
          "output_type": "stream",
          "name": "stderr",
          "text": [
            "/usr/local/lib/python3.7/dist-packages/torch/utils/data/dataloader.py:477: UserWarning: This DataLoader will create 4 worker processes in total. Our suggested max number of worker in current system is 2, which is smaller than what this DataLoader is going to create. Please be aware that excessive worker creation might get DataLoader running slow or even freeze, lower the worker number to avoid potential slowness/freeze if necessary.\n",
            "  cpuset_checked))\n"
          ]
        },
        {
          "output_type": "stream",
          "name": "stdout",
          "text": [
            "-------------- epoch 1 ----------------\n",
            "train Loss: 0.0084, Accuracy: 77.03%\n",
            "val Loss: 0.0083, Accuracy: 76.33%\n",
            "Completed in 0m 52s\n",
            "-------------- epoch 2 ----------------\n",
            "train Loss: 0.0061, Accuracy: 80.27%\n",
            "val Loss: 0.0318, Accuracy: 64.71%\n",
            "Completed in 0m 52s\n",
            "-------------- epoch 3 ----------------\n",
            "train Loss: 0.0055, Accuracy: 85.97%\n",
            "val Loss: 0.0429, Accuracy: 64.50%\n",
            "Completed in 0m 52s\n",
            "-------------- epoch 4 ----------------\n",
            "train Loss: 0.0065, Accuracy: 80.10%\n",
            "val Loss: 0.0248, Accuracy: 66.67%\n",
            "Completed in 0m 52s\n",
            "-------------- epoch 5 ----------------\n",
            "train Loss: 0.0027, Accuracy: 93.26%\n",
            "val Loss: 0.0187, Accuracy: 66.88%\n",
            "Completed in 0m 52s\n",
            "-------------- epoch 6 ----------------\n",
            "train Loss: 0.0066, Accuracy: 83.94%\n",
            "val Loss: 0.0127, Accuracy: 71.77%\n",
            "Completed in 0m 52s\n",
            "-------------- epoch 7 ----------------\n",
            "train Loss: 0.0038, Accuracy: 90.19%\n",
            "val Loss: 0.0259, Accuracy: 66.12%\n",
            "Completed in 0m 52s\n",
            "-------------- epoch 8 ----------------\n",
            "train Loss: 0.0050, Accuracy: 88.12%\n",
            "val Loss: 0.0092, Accuracy: 83.28%\n",
            "Completed in 0m 52s\n",
            "-------------- epoch 9 ----------------\n",
            "train Loss: 0.0012, Accuracy: 97.34%\n",
            "val Loss: 0.0184, Accuracy: 77.74%\n",
            "Completed in 0m 52s\n",
            "-------------- epoch 10 ----------------\n",
            "train Loss: 0.0008, Accuracy: 98.34%\n",
            "val Loss: 0.0143, Accuracy: 77.09%\n",
            "Completed in 0m 52s\n",
            "-------------- epoch 11 ----------------\n",
            "train Loss: 0.0005, Accuracy: 98.97%\n",
            "val Loss: 0.0192, Accuracy: 76.76%\n",
            "Completed in 0m 52s\n",
            "-------------- epoch 12 ----------------\n",
            "train Loss: 0.0006, Accuracy: 98.51%\n",
            "val Loss: 0.0186, Accuracy: 75.68%\n",
            "Completed in 0m 52s\n",
            "-------------- epoch 13 ----------------\n",
            "train Loss: 0.0006, Accuracy: 98.72%\n",
            "val Loss: 0.0348, Accuracy: 76.87%\n",
            "Completed in 0m 52s\n",
            "-------------- epoch 14 ----------------\n",
            "train Loss: 0.0003, Accuracy: 99.57%\n",
            "val Loss: 0.0324, Accuracy: 72.64%\n",
            "Completed in 0m 52s\n",
            "-------------- epoch 15 ----------------\n",
            "train Loss: 0.0000, Accuracy: 100.00%\n",
            "val Loss: 0.0331, Accuracy: 76.33%\n",
            "Completed in 0m 52s\n",
            "-------------- epoch 16 ----------------\n",
            "train Loss: 0.0001, Accuracy: 99.81%\n",
            "val Loss: 0.0260, Accuracy: 79.91%\n",
            "Completed in 0m 52s\n",
            "-------------- epoch 17 ----------------\n",
            "train Loss: 0.0001, Accuracy: 99.95%\n",
            "val Loss: 0.0419, Accuracy: 76.11%\n",
            "Completed in 0m 52s\n",
            "-------------- epoch 18 ----------------\n",
            "train Loss: 0.0000, Accuracy: 100.00%\n",
            "val Loss: 0.0347, Accuracy: 76.44%\n",
            "Completed in 0m 52s\n",
            "-------------- epoch 19 ----------------\n",
            "train Loss: 0.0000, Accuracy: 100.00%\n",
            "val Loss: 0.0361, Accuracy: 76.22%\n",
            "Completed in 0m 52s\n",
            "-------------- epoch 20 ----------------\n",
            "train Loss: 0.0000, Accuracy: 100.00%\n",
            "val Loss: 0.0336, Accuracy: 76.66%\n",
            "Completed in 0m 52s\n",
            "-------------- epoch 21 ----------------\n",
            "train Loss: 0.0000, Accuracy: 100.00%\n",
            "val Loss: 0.0329, Accuracy: 76.98%\n",
            "Completed in 0m 52s\n",
            "-------------- epoch 22 ----------------\n",
            "train Loss: 0.0000, Accuracy: 100.00%\n",
            "val Loss: 0.0358, Accuracy: 76.87%\n",
            "Completed in 0m 52s\n",
            "-------------- epoch 23 ----------------\n",
            "train Loss: 0.0000, Accuracy: 100.00%\n",
            "val Loss: 0.0333, Accuracy: 76.76%\n",
            "Completed in 0m 52s\n",
            "-------------- epoch 24 ----------------\n",
            "train Loss: 0.0000, Accuracy: 100.00%\n",
            "val Loss: 0.0370, Accuracy: 76.66%\n",
            "Completed in 0m 53s\n",
            "-------------- epoch 25 ----------------\n",
            "train Loss: 0.0000, Accuracy: 100.00%\n",
            "val Loss: 0.0361, Accuracy: 76.44%\n",
            "Completed in 0m 53s\n",
            "-------------- epoch 26 ----------------\n",
            "train Loss: 0.0000, Accuracy: 100.00%\n",
            "val Loss: 0.0347, Accuracy: 76.66%\n",
            "Completed in 0m 52s\n",
            "-------------- epoch 27 ----------------\n",
            "train Loss: 0.0000, Accuracy: 100.00%\n",
            "val Loss: 0.0348, Accuracy: 76.98%\n",
            "Completed in 0m 54s\n",
            "-------------- epoch 28 ----------------\n",
            "train Loss: 0.0000, Accuracy: 100.00%\n",
            "val Loss: 0.0347, Accuracy: 76.66%\n",
            "Completed in 0m 53s\n",
            "-------------- epoch 29 ----------------\n",
            "train Loss: 0.0000, Accuracy: 100.00%\n",
            "val Loss: 0.0329, Accuracy: 77.74%\n",
            "Completed in 0m 54s\n",
            "-------------- epoch 30 ----------------\n",
            "train Loss: 0.0000, Accuracy: 100.00%\n",
            "val Loss: 0.0353, Accuracy: 76.98%\n",
            "Completed in 0m 54s\n"
          ]
        }
      ],
      "metadata": {
        "colab": {
          "base_uri": "https://localhost:8080/"
        },
        "id": "rmk9kEN2VpbV",
        "outputId": "a0a4b0c8-79c3-4781-b81f-04826a5ecbde"
      }
    },
    {
      "cell_type": "markdown",
      "source": [
        "## Test ResNet"
      ],
      "metadata": {
        "id": "wDIf1rOTVtqw"
      }
    },
    {
      "cell_type": "code",
      "execution_count": null,
      "source": [
        "model=torch.load('ResNet.pt')\r\n",
        "model.eval()\r\n",
        "loss, acc = evaluate(model, test_loader)\r\n",
        "\r\n",
        "print('Test Accuracy: {:.4f}'.format(acc))"
      ],
      "outputs": [
        {
          "output_type": "stream",
          "name": "stderr",
          "text": [
            "/usr/local/lib/python3.7/dist-packages/torch/utils/data/dataloader.py:477: UserWarning: This DataLoader will create 4 worker processes in total. Our suggested max number of worker in current system is 2, which is smaller than what this DataLoader is going to create. Please be aware that excessive worker creation might get DataLoader running slow or even freeze, lower the worker number to avoid potential slowness/freeze if necessary.\n",
            "  cpuset_checked))\n"
          ]
        },
        {
          "output_type": "stream",
          "name": "stdout",
          "text": [
            "Test Accuracy: 83.2790\n"
          ]
        }
      ],
      "metadata": {
        "colab": {
          "base_uri": "https://localhost:8080/"
        },
        "id": "Vck5U8sCcPgR",
        "outputId": "06091aac-c110-41c3-bada-ee07517e71f7"
      }
    },
    {
      "cell_type": "code",
      "execution_count": null,
      "source": [
        "from sklearn.metrics import classification_report\r\n",
        "\r\n",
        "def prediction(model, data_loader):\r\n",
        "    model.eval()\r\n",
        "    predlist=torch.zeros(0,dtype=torch.long, device='cpu')\r\n",
        "    lbllist=torch.zeros(0,dtype=torch.long, device='cpu')\r\n",
        "    \r\n",
        "    with torch.no_grad():\r\n",
        "      for i, (data, label) in enumerate(data_loader):\r\n",
        "        data = data.to(DEVICE)        # 데이터 DEVICE에 할당\r\n",
        "        label = label.to(DEVICE)      # 라벨 값 DEVICE에 할당\r\n",
        "        outputs = model(data)         # 예측\r\n",
        "        _, preds = torch.max(outputs, 1)  # 가장 높은 확률 가지는 class 예측\r\n",
        "\r\n",
        "        # Batch 단위 예측값 append 하기\r\n",
        "        predlist=torch.cat([predlist,preds.view(-1).cpu()])\r\n",
        "        lbllist=torch.cat([lbllist,label.view(-1).cpu()])\r\n",
        "        \r\n",
        "    # Classification Report\r\n",
        "    print(classification_report(lbllist.numpy(), predlist.numpy())) # 클래스별 accuracy, recall, f1-score \r\n",
        "    return "
      ],
      "outputs": [],
      "metadata": {
        "id": "ox29vVfeW4gv"
      }
    },
    {
      "cell_type": "code",
      "execution_count": null,
      "source": [
        "prediction(model, test_loader)"
      ],
      "outputs": [
        {
          "output_type": "stream",
          "name": "stderr",
          "text": [
            "/usr/local/lib/python3.7/dist-packages/torch/utils/data/dataloader.py:477: UserWarning: This DataLoader will create 4 worker processes in total. Our suggested max number of worker in current system is 2, which is smaller than what this DataLoader is going to create. Please be aware that excessive worker creation might get DataLoader running slow or even freeze, lower the worker number to avoid potential slowness/freeze if necessary.\n",
            "  cpuset_checked))\n"
          ]
        },
        {
          "output_type": "stream",
          "name": "stdout",
          "text": [
            "              precision    recall  f1-score   support\n",
            "\n",
            "           0       0.80      0.92      0.86       503\n",
            "           1       0.88      0.73      0.80       418\n",
            "\n",
            "    accuracy                           0.83       921\n",
            "   macro avg       0.84      0.82      0.83       921\n",
            "weighted avg       0.84      0.83      0.83       921\n",
            "\n"
          ]
        }
      ],
      "metadata": {
        "colab": {
          "base_uri": "https://localhost:8080/"
        },
        "id": "6Qzh5k18iL0E",
        "outputId": "7dfeecd7-7da3-4af7-9e04-5a64c43ea477"
      }
    },
    {
      "cell_type": "code",
      "execution_count": null,
      "source": [],
      "outputs": [],
      "metadata": {
        "id": "X4VhHCl6k6IQ"
      }
    }
  ]
}